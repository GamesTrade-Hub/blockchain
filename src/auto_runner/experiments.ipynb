{
 "cells": [
  {
   "cell_type": "markdown",
   "source": [
    "Useful links\n",
    "-----------\n",
    "https://boto3.amazonaws.com/v1/documentation/api/latest/guide/migrationec2.html"
   ],
   "metadata": {
    "collapsed": false,
    "pycharm": {
     "name": "#%% md\n"
    }
   }
  },
  {
   "cell_type": "code",
   "execution_count": 1,
   "metadata": {
    "collapsed": true,
    "pycharm": {
     "name": "#%%\n"
    }
   },
   "outputs": [],
   "source": [
    "import boto3\n",
    "from boto3.resources.base import ServiceResource\n",
    "from mypy_boto3_ec2 import EC2Client\n",
    "\n",
    "region_name = 'eu-west-3'\n",
    "key_name = 'aws_gth_keys'"
   ]
  },
  {
   "cell_type": "code",
   "execution_count": 2,
   "outputs": [
    {
     "data": {
      "text/plain": "(<botocore.client.EC2 at 0x7f9c96c3c340>,\n ec2.ServiceResource(),\n <botocore.client.EC2 at 0x7f9c97e6f4c0>,\n ec2.ServiceResource())"
     },
     "execution_count": 2,
     "metadata": {},
     "output_type": "execute_result"
    }
   ],
   "source": [
    "node_session = boto3.Session(profile_name='ec2_node')\n",
    "creator_session = boto3.Session(profile_name='ec2_creator')\n",
    "\n",
    "ec2_resource_node: ServiceResource = node_session.resource('ec2', region_name=region_name)\n",
    "ec2_client_node: EC2Client = node_session.client('ec2', region_name=region_name)\n",
    "ec2_resource_creator: ServiceResource = creator_session.resource('ec2', region_name=region_name)\n",
    "ec2_client_creator: EC2Client = creator_session.client('ec2', region_name=region_name)\n",
    "\n",
    "ec2_client_creator, ec2_resource_creator, ec2_client_node, ec2_resource_node"
   ],
   "metadata": {
    "collapsed": false,
    "pycharm": {
     "name": "#%%\n"
    }
   }
  },
  {
   "cell_type": "code",
   "execution_count": 3,
   "outputs": [],
   "source": [
    "import os\n",
    "\n",
    "def get_public_ip(ec2_client: EC2Client, instance_id):\n",
    "    reservations = ec2_client.describe_instances(InstanceIds=[instance_id]).get(\"Reservations\")\n",
    "\n",
    "    for reservation in reservations:\n",
    "        for instance in reservation['Instances']:\n",
    "            print(instance.get(\"PublicIpAddress\"))\n",
    "\n",
    "\n",
    "def create_key_pair(ec2_client: EC2Client, key_pair_name: str) -> None:\n",
    "    key_pair = ec2_client.create_key_pair(KeyName=key_pair_name)\n",
    "\n",
    "    private_key = key_pair[\"KeyMaterial\"]\n",
    "\n",
    "    # write private key to file with 400 permissions\n",
    "    with os.fdopen(os.open(f\"/tmp/{key_pair_name}.pem\", os.O_WRONLY | os.O_CREAT, 0o400), \"w+\") as handle:\n",
    "        handle.write(private_key)\n",
    "\n",
    "# create_key_pair(ec2_client, key_name)"
   ],
   "metadata": {
    "collapsed": false,
    "pycharm": {
     "name": "#%%\n"
    }
   }
  },
  {
   "cell_type": "code",
   "execution_count": 4,
   "outputs": [
    {
     "data": {
      "text/plain": "('i-0859b7c76b25992c1',\n 1,\n boto3.resources.factory.ec2.Instance,\n ec2.Instance(id='i-0859b7c76b25992c1'))"
     },
     "execution_count": 4,
     "metadata": {},
     "output_type": "execute_result"
    }
   ],
   "source": [
    "from mypy_boto3_ec2.service_resource import Instance\n",
    "from typing import List\n",
    "\n",
    "instances: List[Instance] = ec2_resource_creator.create_instances(\n",
    "    ImageId='ami-0f7559f51d3a22167',\n",
    "    MinCount=1,\n",
    "    MaxCount=1,\n",
    "    InstanceType='t2.micro',\n",
    "    KeyName=key_name,\n",
    "    SecurityGroupIds=['sg-0ea7ad2589dc158bf'],\n",
    "    IamInstanceProfile={\n",
    "        'Arn': 'arn:aws:iam::747137879128:instance-profile/BlockchainNode',\n",
    "      # 'Name': 'AmazonSSMRoleForInstancesQuickSetup'\n",
    "    },\n",
    "    # IamInstanceProfile={\n",
    "    #     'Arn': 'arn:aws:iam::747137879128:instance-profile/AmazonSSMRoleForInstancesQuickSetup',\n",
    "      # 'Name': 'MyBlockchainRole'\n",
    "    # }\n",
    ")\n",
    "i: Instance = instances[0]\n",
    "i.id, len(instances), type(instances[0]), i"
   ],
   "metadata": {
    "collapsed": false,
    "pycharm": {
     "name": "#%%\n"
    }
   }
  },
  {
   "cell_type": "markdown",
   "source": [
    " BlockDeviceMappings, ImageId, InstanceType, Ipv6AddressCount, Ipv6Addresses, KernelId, KeyName, MaxCount, MinCount, Monitoring, Placement, RamdiskId, SecurityGroupIds, SecurityGroups, SubnetId, UserData, AdditionalInfo, ClientToken, DisableApiTermination, DryRun, EbsOptimized, IamInstanceProfile, InstanceInitiatedShutdownBehavior, NetworkInterfaces, PrivateIpAddress, ElasticGpuSpecification, ElasticInferenceAccelerators, TagSpecifications, LaunchTemplate, InstanceMarketOptions, CreditSpecification, CpuOptions, CapacityReservationSpecification, HibernationOptions, LicenseSpecifications, MetadataOptions, EnclaveOptions, PrivateDnsNameOptions, MaintenanceOptions, DisableApiStop"
   ],
   "metadata": {
    "collapsed": false,
    "pycharm": {
     "name": "#%% md\n"
    }
   }
  },
  {
   "cell_type": "code",
   "execution_count": 5,
   "outputs": [
    {
     "name": "stdout",
     "output_type": "stream",
     "text": [
      "13.39.16.209\n"
     ]
    },
    {
     "data": {
      "text/plain": "(None, {'Code': 16, 'Name': 'running'})"
     },
     "execution_count": 5,
     "metadata": {},
     "output_type": "execute_result"
    }
   ],
   "source": [
    "i.wait_until_running()\n",
    "i.reload()\n",
    "get_public_ip(ec2_client_creator, i.id), i.state"
   ],
   "metadata": {
    "collapsed": false,
    "pycharm": {
     "name": "#%%\n"
    }
   }
  },
  {
   "cell_type": "code",
   "execution_count": 11,
   "outputs": [
    {
     "data": {
      "text/plain": "{'meta': ResourceMeta('ec2', identifiers=['id']), '_id': 'i-0859b7c76b25992c1'}"
     },
     "execution_count": 11,
     "metadata": {},
     "output_type": "execute_result"
    }
   ],
   "source": [
    "vars(i)"
   ],
   "metadata": {
    "collapsed": false,
    "pycharm": {
     "name": "#%%\n"
    }
   }
  },
  {
   "cell_type": "code",
   "execution_count": 6,
   "outputs": [
    {
     "name": "stdout",
     "output_type": "stream",
     "text": [
      "An error occurred (InvalidInstanceId) when calling the SendCommand operation: Instances [[i-0859b7c76b25992c1]] not in a valid state for account 747137879128\n",
      "An error occurred (InvalidInstanceId) when calling the SendCommand operation: Instances [[i-0859b7c76b25992c1]] not in a valid state for account 747137879128\n",
      "total 72\n",
      "drwxr-xr-x  19 root root  4096 Jul 28 16:28 .\n",
      "drwxr-xr-x  19 root root  4096 Jul 28 16:28 ..\n",
      "lrwxrwxrwx   1 root root     7 Jun 10 10:44 bin -> usr/bin\n",
      "drwxr-xr-x   4 root root  4096 Jun 10 10:50 boot\n",
      "drwxr-xr-x  17 root root  3220 Jul 28 16:28 dev\n",
      "drwxr-xr-x  95 root root  4096 Jul 28 16:28 etc\n",
      "drwxr-xr-x   3 root root  4096 Jul 28 16:28 home\n",
      "lrwxrwxrwx   1 root root     7 Jun 10 10:44 lib -> usr/lib\n",
      "lrwxrwxrwx   1 root root     9 Jun 10 10:44 lib32 -> usr/lib32\n",
      "lrwxrwxrwx   1 root root     9 Jun 10 10:44 lib64 -> usr/lib64\n",
      "lrwxrwxrwx   1 root root    10 Jun 10 10:44 libx32 -> usr/libx32\n",
      "drwx------   2 root root 16384 Jun 10 10:47 lost+found\n",
      "drwxr-xr-x   2 root root  4096 Jun 10 10:44 media\n",
      "drwxr-xr-x   2 root root  4096 Jun 10 10:44 mnt\n",
      "drwxr-xr-x   2 root root  4096 Jun 10 10:44 opt\n",
      "dr-xr-xr-x 166 root root     0 Jul 28 16:28 proc\n",
      "drwx------   4 root root  4096 Jul 28 16:28 root\n",
      "drwxr-xr-x  24 root root   800 Jul 28 16:28 run\n",
      "lrwxrwxrwx   1 root root     8 Jun 10 10:44 sbin -> usr/sbin\n",
      "drwxr-xr-x   8 root root  4096 Jun 10 10:49 snap\n",
      "drwxr-xr-x   2 root root  4096 Jun 10 10:44 srv\n",
      "dr-xr-xr-x  13 root root     0 Jul 28 16:28 sys\n",
      "drwxrwxrwt  14 root root  4096 Jul 28 16:28 tmp\n",
      "drwxr-xr-x  14 root root  4096 Jun 10 10:46 usr\n",
      "drwxr-xr-x  13 root root  4096 Jun 10 10:47 var\n",
      "\n"
     ]
    }
   ],
   "source": [
    "import time\n",
    "# time.sleep(20)\n",
    "instance_id = i.id\n",
    "\n",
    "ssm_client = node_session.client('ssm', region_name=region_name)\n",
    "\n",
    "while True:\n",
    "    try:\n",
    "        response = ssm_client.send_command(\n",
    "            InstanceIds=[instance_id],\n",
    "            DocumentName=\"AWS-RunShellScript\",\n",
    "            Parameters={'commands': ['ls -la /']}\n",
    "        )\n",
    "        break\n",
    "    except Exception as e:\n",
    "        print(e)\n",
    "        time.sleep(3)\n",
    "command_id = response['Command']['CommandId']\n",
    "time.sleep(2)\n",
    "output = ssm_client.get_command_invocation(CommandId=command_id, InstanceId=instance_id)\n",
    "while output['Status'] == \"InProgress\":\n",
    "    output = ssm_client.get_command_invocation(CommandId=command_id, InstanceId=instance_id)\n",
    "print(output['StandardOutputContent'])\n"
   ],
   "metadata": {
    "collapsed": false,
    "pycharm": {
     "name": "#%%\n"
    }
   }
  },
  {
   "cell_type": "code",
   "execution_count": 10,
   "outputs": [],
   "source": [
    "from typing import Iterator\n",
    "\n",
    "\n",
    "def stop_instance(ec2_client, instance_id):\n",
    "    response = ec2_client.stop_instances(InstanceIds=[instance_id])\n",
    "    print(f'stop {instance_id=}: {response}')\n",
    "\n",
    "\n",
    "def terminate_instance(ec2_client, instance_id):\n",
    "    response = ec2_client.terminate_instances(InstanceIds=[instance_id])\n",
    "    print(f'terminate {instance_id=}: {response}')\n",
    "\n",
    "\n",
    "def running_instances_ids(ec2_client) -> Iterator[str]:\n",
    "    reservations = ec2_client.describe_instances(Filters=[\n",
    "        {\n",
    "            \"Name\": \"instance-state-name\",\n",
    "            \"Values\": [\"running\"],\n",
    "        }\n",
    "    ]).get(\"Reservations\")\n",
    "\n",
    "    for reservation in reservations:\n",
    "        for instance in reservation[\"Instances\"]:\n",
    "            yield instance[\"InstanceId\"]\n",
    "\n",
    "def terminate_all_instances(ec2_client):\n",
    "    for instance_id in running_instances_ids(ec2_client):\n",
    "        terminate_instance(ec2_client, instance_id)\n",
    "\n",
    "\n",
    "def get_running_instances(ec2_client, ec2_resource):\n",
    "    reservations = ec2_client.describe_instances(Filters=[\n",
    "        {\n",
    "            \"Name\": \"instance-state-name\",\n",
    "            \"Values\": [\"running\"],\n",
    "        }\n",
    "    ]).get(\"Reservations\")\n",
    "\n",
    "    for reservation in reservations:\n",
    "        for instance in reservation[\"Instances\"]:\n",
    "            instance_id = instance[\"InstanceId\"]\n",
    "            instance_type = instance[\"InstanceType\"]\n",
    "            public_ip = instance[\"PublicIpAddress\"]\n",
    "            private_ip = instance[\"PrivateIpAddress\"]\n",
    "            print(f\"{instance_id}, {instance_type}, {public_ip=}, {private_ip=}\")\n",
    "\n",
    "    for status in ec2_resource.meta.client.describe_instance_status()['InstanceStatuses']:\n",
    "        print(status)\n",
    "\n",
    "get_running_instances(ec2_client_creator, ec2_resource_creator)\n"
   ],
   "metadata": {
    "collapsed": false,
    "pycharm": {
     "name": "#%%\n"
    }
   }
  },
  {
   "cell_type": "code",
   "execution_count": 8,
   "outputs": [
    {
     "name": "stdout",
     "output_type": "stream",
     "text": [
      "terminate instance_id='i-0859b7c76b25992c1': {'TerminatingInstances': [{'CurrentState': {'Code': 32, 'Name': 'shutting-down'}, 'InstanceId': 'i-0859b7c76b25992c1', 'PreviousState': {'Code': 16, 'Name': 'running'}}], 'ResponseMetadata': {'RequestId': '98c708dc-2b11-4cbf-a156-8d4a6758a992', 'HTTPStatusCode': 200, 'HTTPHeaders': {'x-amzn-requestid': '98c708dc-2b11-4cbf-a156-8d4a6758a992', 'cache-control': 'no-cache, no-store', 'strict-transport-security': 'max-age=31536000; includeSubDomains', 'vary': 'accept-encoding', 'content-type': 'text/xml;charset=UTF-8', 'transfer-encoding': 'chunked', 'date': 'Thu, 28 Jul 2022 16:28:41 GMT', 'server': 'AmazonEC2'}, 'RetryAttempts': 0}}\n"
     ]
    }
   ],
   "source": [
    "terminate_all_instances(ec2_client_creator)"
   ],
   "metadata": {
    "collapsed": false,
    "pycharm": {
     "name": "#%%\n"
    }
   }
  },
  {
   "cell_type": "code",
   "execution_count": 9,
   "outputs": [],
   "source": [
    "response = ec2_client_creator.terminate_instances(\n",
    "    InstanceIds=[\n",
    "        instance.id for instance in instances\n",
    "    ],\n",
    ")"
   ],
   "metadata": {
    "collapsed": false,
    "pycharm": {
     "name": "#%%\n"
    }
   }
  },
  {
   "cell_type": "code",
   "execution_count": 9,
   "outputs": [],
   "source": [],
   "metadata": {
    "collapsed": false,
    "pycharm": {
     "name": "#%%\n"
    }
   }
  },
  {
   "cell_type": "code",
   "execution_count": 9,
   "outputs": [],
   "source": [],
   "metadata": {
    "collapsed": false,
    "pycharm": {
     "name": "#%%\n"
    }
   }
  },
  {
   "cell_type": "code",
   "execution_count": 9,
   "outputs": [],
   "source": [],
   "metadata": {
    "collapsed": false,
    "pycharm": {
     "name": "#%%\n"
    }
   }
  }
 ],
 "metadata": {
  "kernelspec": {
   "display_name": "Python 3",
   "language": "python",
   "name": "python3"
  },
  "language_info": {
   "codemirror_mode": {
    "name": "ipython",
    "version": 2
   },
   "file_extension": ".py",
   "mimetype": "text/x-python",
   "name": "python",
   "nbconvert_exporter": "python",
   "pygments_lexer": "ipython2",
   "version": "2.7.6"
  }
 },
 "nbformat": 4,
 "nbformat_minor": 0
}